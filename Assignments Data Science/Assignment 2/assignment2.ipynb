{
 "cells": [
  {
   "cell_type": "markdown",
   "metadata": {},
   "source": [
    "# Assignment 2\n",
    "\n",
    "## Numpy"
   ]
  },
  {
   "cell_type": "markdown",
   "metadata": {},
   "source": [
    "### Import Library"
   ]
  },
  {
   "cell_type": "code",
   "execution_count": 1,
   "metadata": {},
   "outputs": [],
   "source": [
    "import numpy as np"
   ]
  },
  {
   "cell_type": "markdown",
   "metadata": {},
   "source": [
    "### Solve Questions"
   ]
  },
  {
   "cell_type": "markdown",
   "metadata": {},
   "source": [
    "1) Write a NumPy program to test whether none of the elements of a given array is zero."
   ]
  },
  {
   "cell_type": "code",
   "execution_count": 2,
   "metadata": {},
   "outputs": [
    {
     "name": "stdout",
     "output_type": "stream",
     "text": [
      "True\n",
      "False\n"
     ]
    }
   ],
   "source": [
    "no_zero = np.array([1, 2, 3, 4])\n",
    "no_zero2 = np.array([1, 2, 3, 4, 0])\n",
    "\n",
    "test1 = np.all(no_zero != 0)\n",
    "test2 = np.all(no_zero2 != 0)\n",
    "\n",
    "print(test1)\n",
    "print(test2)"
   ]
  },
  {
   "cell_type": "markdown",
   "metadata": {},
   "source": [
    "____________"
   ]
  },
  {
   "cell_type": "markdown",
   "metadata": {},
   "source": [
    "2) Write a NumPy program to test whether any of the elements of a given array is non-zero.  "
   ]
  },
  {
   "cell_type": "code",
   "execution_count": 3,
   "metadata": {},
   "outputs": [
    {
     "name": "stdout",
     "output_type": "stream",
     "text": [
      "Any of the elements are non-zero: True\n",
      "Any of the elements are non-zero: False\n"
     ]
    }
   ],
   "source": [
    "arr = np.array([0, 0, 0, 3])\n",
    "arr2 = np.array([0, 0, 0, 0])\n",
    "\n",
    "\n",
    "any_non_zero = np.any(arr != 0)\n",
    "any_non_zero2 = np.any(arr2 != 0)\n",
    "\n",
    "print(\"Any of the elements are non-zero:\", any_non_zero)\n",
    "print(\"Any of the elements are non-zero:\", any_non_zero2)"
   ]
  },
  {
   "cell_type": "markdown",
   "metadata": {},
   "source": [
    "___________"
   ]
  },
  {
   "cell_type": "markdown",
   "metadata": {},
   "source": [
    "3) Write a NumPy program to create an element-wise comparison (equal, equal within a tolerance) of two \n",
    "given  "
   ]
  },
  {
   "cell_type": "code",
   "execution_count": 4,
   "metadata": {},
   "outputs": [
    {
     "name": "stdout",
     "output_type": "stream",
     "text": [
      "Element-wise comparison (equal):\n",
      "[ True False False  True]\n",
      "\n",
      "Element-wise comparison (equal within a tolerance):\n",
      "[ True False  True  True]\n"
     ]
    }
   ],
   "source": [
    "arr1 = np.array([1.0, 2.0, 3.0, 4.4])\n",
    "arr2 = np.array([1.0, 2.5, 3.1, 4.4])\n",
    "\n",
    "equal_arr = np.equal(arr1, arr2)\n",
    "tolerance_arr = np.isclose(arr1, arr2, atol=0.1)\n",
    "\n",
    "print(\"Element-wise comparison (equal):\")\n",
    "print(equal_arr)\n",
    "\n",
    "print(\"\\nElement-wise comparison (equal within a tolerance):\")\n",
    "print(tolerance_arr)"
   ]
  },
  {
   "cell_type": "markdown",
   "metadata": {},
   "source": [
    "____________"
   ]
  },
  {
   "cell_type": "markdown",
   "metadata": {},
   "source": [
    "4) Write a NumPy program to create an array of 10 zeros,10 ones, 10 fives."
   ]
  },
  {
   "cell_type": "code",
   "execution_count": 5,
   "metadata": {},
   "outputs": [
    {
     "name": "stdout",
     "output_type": "stream",
     "text": [
      "Array of 10 zeros: [0. 0. 0. 0. 0. 0. 0. 0. 0. 0.]\n",
      "Array of 10 ones: [1. 1. 1. 1. 1. 1. 1. 1. 1. 1.]\n",
      "Array of 10 fives: [5 5 5 5 5 5 5 5 5 5]\n"
     ]
    }
   ],
   "source": [
    "ten_zeros = np.zeros(10)\n",
    "ten_ones  = np.ones(10)\n",
    "ten_fives = np.full(10, 5)\n",
    "\n",
    "print(\"Array of 10 zeros:\", ten_zeros)\n",
    "print(\"Array of 10 ones:\", ten_ones)\n",
    "print(\"Array of 10 fives:\", ten_fives)"
   ]
  },
  {
   "cell_type": "markdown",
   "metadata": {},
   "source": [
    "___________"
   ]
  },
  {
   "cell_type": "markdown",
   "metadata": {},
   "source": [
    "5) Write a NumPy program to create an array of the integers from 30 to 70"
   ]
  },
  {
   "cell_type": "code",
   "execution_count": 6,
   "metadata": {},
   "outputs": [
    {
     "name": "stdout",
     "output_type": "stream",
     "text": [
      "Array of integers from 30 to 70: [30 31 32 33 34 35 36 37 38 39 40 41 42 43 44 45 46 47 48 49 50 51 52 53\n",
      " 54 55 56 57 58 59 60 61 62 63 64 65 66 67 68 69 70]\n"
     ]
    }
   ],
   "source": [
    "arr = np.arange(30, 71)\n",
    "print(\"Array of integers from 30 to 70:\", arr)"
   ]
  },
  {
   "cell_type": "markdown",
   "metadata": {},
   "source": [
    "__________"
   ]
  },
  {
   "cell_type": "markdown",
   "metadata": {},
   "source": [
    "6) Write a NumPy program to create a 3x3 identity matrix  "
   ]
  },
  {
   "cell_type": "code",
   "execution_count": 7,
   "metadata": {},
   "outputs": [
    {
     "name": "stdout",
     "output_type": "stream",
     "text": [
      "[[1. 0. 0.]\n",
      " [0. 1. 0.]\n",
      " [0. 0. 1.]]\n"
     ]
    }
   ],
   "source": [
    "identity_matrix = np.identity(3)\n",
    "print(identity_matrix)"
   ]
  },
  {
   "cell_type": "markdown",
   "metadata": {},
   "source": [
    "________"
   ]
  },
  {
   "cell_type": "markdown",
   "metadata": {},
   "source": [
    "7) Write a NumPy program to generate a random number between 0 and 1"
   ]
  },
  {
   "cell_type": "code",
   "execution_count": 12,
   "metadata": {},
   "outputs": [
    {
     "name": "stdout",
     "output_type": "stream",
     "text": [
      "0.011125582687197433\n"
     ]
    }
   ],
   "source": [
    "random_number = np.random.rand()\n",
    "print(random_number)\n"
   ]
  },
  {
   "cell_type": "markdown",
   "metadata": {},
   "source": [
    "_______"
   ]
  },
  {
   "cell_type": "markdown",
   "metadata": {},
   "source": [
    "8) Write a NumPy program to generate an array of 15 random numbers from a standard normal \n",
    "distribution  "
   ]
  },
  {
   "cell_type": "code",
   "execution_count": 15,
   "metadata": {},
   "outputs": [
    {
     "name": "stdout",
     "output_type": "stream",
     "text": [
      "[-0.18570074  0.40263923  0.35561418  0.05975718  1.19933946  1.00624608\n",
      "  1.40280497 -0.78358836 -0.02065339 -0.57961429  1.31589238  0.65110084\n",
      "  0.9053334   0.07317691  1.80782386]\n"
     ]
    }
   ],
   "source": [
    "random_numbers = np.random.randn(15)\n",
    "print(random_numbers)"
   ]
  },
  {
   "cell_type": "markdown",
   "metadata": {},
   "source": [
    "_____"
   ]
  },
  {
   "cell_type": "markdown",
   "metadata": {},
   "source": [
    "9) Write a NumPy program to create a vector with values ranging from 15 to 55 and print all values \n",
    "except the first and last.   "
   ]
  },
  {
   "cell_type": "code",
   "execution_count": 17,
   "metadata": {},
   "outputs": [
    {
     "name": "stdout",
     "output_type": "stream",
     "text": [
      "[16 17 18 19 20 21 22 23 24 25 26 27 28 29 30 31 32 33 34 35 36 37 38 39\n",
      " 40 41 42 43 44 45 46 47 48 49 50 51 52 53 54]\n"
     ]
    }
   ],
   "source": [
    "vector_renge = np.arange(15, 56)\n",
    "print(vector_renge[1:-1])"
   ]
  },
  {
   "cell_type": "markdown",
   "metadata": {},
   "source": [
    "_____________________"
   ]
  },
  {
   "cell_type": "markdown",
   "metadata": {},
   "source": [
    "10) Write a NumPy program to create a vector of length 5 filled with arbitrary integers from 0 to 10  "
   ]
  },
  {
   "cell_type": "code",
   "execution_count": 18,
   "metadata": {},
   "outputs": [
    {
     "name": "stdout",
     "output_type": "stream",
     "text": [
      "[10  3  1  0  5]\n"
     ]
    }
   ],
   "source": [
    "random_vector = np.random.randint(0, 11, size=5)\n",
    "print(random_vector)"
   ]
  },
  {
   "cell_type": "markdown",
   "metadata": {},
   "source": [
    "_________"
   ]
  },
  {
   "cell_type": "markdown",
   "metadata": {},
   "source": [
    "11) Write a NumPy program to create a 10x10 matrix, in which the elements on the borders will be equal \n",
    "to 1, and inside 0.  "
   ]
  },
  {
   "cell_type": "code",
   "execution_count": 19,
   "metadata": {},
   "outputs": [
    {
     "name": "stdout",
     "output_type": "stream",
     "text": [
      "[[1. 1. 1. 1. 1. 1. 1. 1. 1. 1.]\n",
      " [1. 0. 0. 0. 0. 0. 0. 0. 0. 1.]\n",
      " [1. 0. 0. 0. 0. 0. 0. 0. 0. 1.]\n",
      " [1. 0. 0. 0. 0. 0. 0. 0. 0. 1.]\n",
      " [1. 0. 0. 0. 0. 0. 0. 0. 0. 1.]\n",
      " [1. 0. 0. 0. 0. 0. 0. 0. 0. 1.]\n",
      " [1. 0. 0. 0. 0. 0. 0. 0. 0. 1.]\n",
      " [1. 0. 0. 0. 0. 0. 0. 0. 0. 1.]\n",
      " [1. 0. 0. 0. 0. 0. 0. 0. 0. 1.]\n",
      " [1. 1. 1. 1. 1. 1. 1. 1. 1. 1.]]\n"
     ]
    }
   ],
   "source": [
    "matrix = np.zeros((10, 10))\n",
    "\n",
    "matrix[0, :] = 1        \n",
    "matrix[-1, :] = 1       \n",
    "matrix[:, 0] = 1        \n",
    "matrix[:, -1] = 1       \n",
    "\n",
    "print(matrix)"
   ]
  },
  {
   "cell_type": "markdown",
   "metadata": {},
   "source": [
    "______________"
   ]
  },
  {
   "cell_type": "markdown",
   "metadata": {},
   "source": [
    "12) Write a NumPy program to create a 5x5 zero matrix with elements on the main diagonal equal to 1, 2, \n",
    "3, 4, 5.  "
   ]
  },
  {
   "cell_type": "code",
   "execution_count": 20,
   "metadata": {},
   "outputs": [
    {
     "name": "stdout",
     "output_type": "stream",
     "text": [
      "[[1. 0. 0. 0. 0.]\n",
      " [0. 2. 0. 0. 0.]\n",
      " [0. 0. 3. 0. 0.]\n",
      " [0. 0. 0. 4. 0.]\n",
      " [0. 0. 0. 0. 5.]]\n"
     ]
    }
   ],
   "source": [
    "zero_matrix = np.zeros((5, 5))\n",
    "\n",
    "np.fill_diagonal(zero_matrix, [1, 2, 3, 4, 5])\n",
    "\n",
    "print(zero_matrix)"
   ]
  },
  {
   "cell_type": "markdown",
   "metadata": {},
   "source": [
    "___________"
   ]
  },
  {
   "cell_type": "markdown",
   "metadata": {},
   "source": [
    "13) Write a NumPy program to create a 4x4 matrix in which 0 and 1 are staggered, with zeros on the main \n",
    "diagonal"
   ]
  },
  {
   "cell_type": "code",
   "execution_count": 22,
   "metadata": {},
   "outputs": [
    {
     "name": "stdout",
     "output_type": "stream",
     "text": [
      "[[0. 0. 1. 0.]\n",
      " [0. 0. 0. 1.]\n",
      " [1. 0. 0. 0.]\n",
      " [0. 1. 0. 0.]]\n"
     ]
    }
   ],
   "source": [
    "matrix = np.ones((4, 4))\n",
    "\n",
    "np.fill_diagonal(matrix, 0)\n",
    "\n",
    "matrix[1::2, ::2] = 0  \n",
    "matrix[::2, 1::2] = 0\n",
    "\n",
    "print(matrix)"
   ]
  },
  {
   "cell_type": "markdown",
   "metadata": {},
   "source": [
    "______"
   ]
  },
  {
   "cell_type": "markdown",
   "metadata": {},
   "source": [
    "14) Write a NumPy program to save two given arrays into a single file in compressed format (.npz format) \n",
    "and load it.   "
   ]
  },
  {
   "cell_type": "code",
   "execution_count": 23,
   "metadata": {},
   "outputs": [
    {
     "name": "stdout",
     "output_type": "stream",
     "text": [
      "Loaded Array 1: [1 2 3 4 5]\n",
      "Loaded Array 2: [ 6  7  8  9 10]\n"
     ]
    }
   ],
   "source": [
    "array1 = np.array([1, 2, 3, 4, 5])\n",
    "array2 = np.array([6, 7, 8, 9, 10])\n",
    "\n",
    "np.savez_compressed('arrays.npz', array1=array1, array2=array2)\n",
    "\n",
    "loaded_data = np.load('arrays.npz')\n",
    "\n",
    "loaded_array1 = loaded_data['array1']\n",
    "loaded_array2 = loaded_data['array2']\n",
    "\n",
    "print(\"Loaded Array 1:\", loaded_array1)\n",
    "print(\"Loaded Array 2:\", loaded_array2)"
   ]
  },
  {
   "cell_type": "markdown",
   "metadata": {},
   "source": [
    "__________"
   ]
  },
  {
   "cell_type": "markdown",
   "metadata": {},
   "source": [
    "15)  Write a NumPy program to create a one-dimensional array of forty pseudo-randomly generated values. \n",
    "Select \n"
   ]
  },
  {
   "cell_type": "code",
   "execution_count": 25,
   "metadata": {},
   "outputs": [
    {
     "data": {
      "text/plain": [
       "array([0.1442899 , 0.45489213, 0.6946307 , 0.0272231 , 0.68241551,\n",
       "       0.57275992, 0.71753735, 0.56372329, 0.17262513, 0.69594454,\n",
       "       0.91331483, 0.52685222, 0.4439991 , 0.24932743, 0.388372  ,\n",
       "       0.62044485, 0.39085959, 0.13705681, 0.21156129, 0.85129954,\n",
       "       0.07870186, 0.59960471, 0.48948398, 0.30922832, 0.67421429,\n",
       "       0.35565857, 0.38652851, 0.90789407, 0.34767013, 0.74236252,\n",
       "       0.76779351, 0.46050526, 0.59098082, 0.22006396, 0.01768681,\n",
       "       0.99032993, 0.23293003, 0.23128682, 0.47506683, 0.233006  ])"
      ]
     },
     "execution_count": 25,
     "metadata": {},
     "output_type": "execute_result"
    }
   ],
   "source": [
    "random_array = np.random.rand(40)\n",
    "random_array"
   ]
  },
  {
   "cell_type": "markdown",
   "metadata": {},
   "source": [
    "__________"
   ]
  },
  {
   "cell_type": "markdown",
   "metadata": {},
   "source": [
    "16) Write a NumPy program to extract all numbers from a given array which are less and greater than a \n",
    "specified number"
   ]
  },
  {
   "cell_type": "code",
   "execution_count": 26,
   "metadata": {},
   "outputs": [
    {
     "name": "stdout",
     "output_type": "stream",
     "text": [
      "Original array: [10 25  5 30 15  2 20 40 35  0]\n",
      "Numbers less than 15: [10  5  2  0]\n",
      "Numbers greater than 15: [25 30 20 40 35]\n"
     ]
    }
   ],
   "source": [
    "array = np.array([10, 25, 5, 30, 15, 2, 20, 40, 35, 0])\n",
    "\n",
    "specified_number = 15\n",
    "\n",
    "less_than = array[array < specified_number]\n",
    "\n",
    "greater_than = array[array > specified_number]\n",
    "\n",
    "\n",
    "print(\"Original array:\", array)\n",
    "print(f\"Numbers less than {specified_number}:\", less_than)\n",
    "print(f\"Numbers greater than {specified_number}:\", greater_than)"
   ]
  }
 ],
 "metadata": {
  "kernelspec": {
   "display_name": "Python 3",
   "language": "python",
   "name": "python3"
  },
  "language_info": {
   "codemirror_mode": {
    "name": "ipython",
    "version": 3
   },
   "file_extension": ".py",
   "mimetype": "text/x-python",
   "name": "python",
   "nbconvert_exporter": "python",
   "pygments_lexer": "ipython3",
   "version": "3.11.9"
  }
 },
 "nbformat": 4,
 "nbformat_minor": 2
}
