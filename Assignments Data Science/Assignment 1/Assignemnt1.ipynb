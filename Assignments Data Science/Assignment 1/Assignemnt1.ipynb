{
 "cells": [
  {
   "cell_type": "markdown",
   "metadata": {},
   "source": [
    "<img src=\"WhatsApp Image 2024-09-29 at 20.42.26_0c5ddda7.jpg\" alt=\"Description\" width=\"700\"/>\n",
    "\n"
   ]
  },
  {
   "cell_type": "code",
   "execution_count": 1,
   "metadata": {},
   "outputs": [
    {
     "name": "stdout",
     "output_type": "stream",
     "text": [
      "Input Train:\n",
      " [['a' '23']\n",
      " ['b' '24']\n",
      " ['c' '25']\n",
      " ['d' '26']\n",
      " ['e' '27']\n",
      " ['f' '28']]\n",
      "Output Train:\n",
      " ['1' '1' '0' '0' '1' '0']\n",
      "Input Test:\n",
      " [['g' '29']\n",
      " ['h' '20']\n",
      " ['i' '30']\n",
      " ['j' '33']]\n",
      "Output Test:\n",
      " ['1' '1' '0' '1']\n"
     ]
    }
   ],
   "source": [
    "import numpy as np\n",
    "\n",
    "def train_test_split(data, train_percent):\n",
    "    train_size = int(len(data) * (train_percent / 100))\n",
    "    \n",
    "    train_data = data[:train_size]\n",
    "    test_data = data[train_size:]\n",
    "    \n",
    "    X_train = train_data[:, :-1]  \n",
    "    y_train = train_data[:, -1]   \n",
    "    X_test = test_data[:, :-1]\n",
    "    y_test = test_data[:, -1]\n",
    "    \n",
    "    return X_train, y_train, X_test, y_test\n",
    "\n",
    "# Example data\n",
    "data = np.array([\n",
    "    ['a', 23, 1],\n",
    "    ['b', 24, 1],\n",
    "    ['c', 25, 0],\n",
    "    ['d', 26, 0],\n",
    "    ['e', 27, 1],\n",
    "    ['f', 28, 0],\n",
    "    ['g', 29, 1],\n",
    "    ['h', 20, 1],\n",
    "    ['i', 30, 0],\n",
    "    ['j', 33, 1]\n",
    "])\n",
    "\n",
    "input_train, output_train, input_test, output_test = train_test_split(data, 60)\n",
    "\n",
    "\n",
    "print(\"Input Train:\\n\", input_train)\n",
    "print(\"Output Train:\\n\", output_train)\n",
    "print(\"Input Test:\\n\", input_test)\n",
    "print(\"Output Test:\\n\", output_test)\n"
   ]
  },
  {
   "cell_type": "markdown",
   "metadata": {},
   "source": [
    "_______"
   ]
  },
  {
   "cell_type": "markdown",
   "metadata": {},
   "source": [
    "<img src=\"WhatsApp Image 2024-09-29 at 21.12.37_7e27c0bd.jpg\" alt=\"Description\" width=\"700\"/>"
   ]
  },
  {
   "cell_type": "code",
   "execution_count": 3,
   "metadata": {},
   "outputs": [
    {
     "name": "stdout",
     "output_type": "stream",
     "text": [
      "[[11]\n",
      " [22]\n",
      " [33]\n",
      " [44]\n",
      " [55]]\n",
      "[[11 22 33 44 55]]\n"
     ]
    }
   ],
   "source": [
    "import numpy as np\n",
    "\n",
    "def reshape_data(data, flag=\"col\"):\n",
    "    if flag == \"col\":\n",
    "        return data.reshape(-1, 1) \n",
    "    elif flag == \"row\": \n",
    "        return data.reshape(1, -1)  \n",
    "    else:\n",
    "        raise ValueError(\"Invalid flag. Use 'col' or 'row'.\")\n",
    "\n",
    "data = np.array([11, 22, 33, 44, 55])\n",
    "print(reshape_data(data, \"col\"))\n",
    "print(reshape_data(data, \"row\"))\n"
   ]
  },
  {
   "cell_type": "code",
   "execution_count": null,
   "metadata": {},
   "outputs": [],
   "source": []
  }
 ],
 "metadata": {
  "kernelspec": {
   "display_name": "Python 3",
   "language": "python",
   "name": "python3"
  },
  "language_info": {
   "codemirror_mode": {
    "name": "ipython",
    "version": 3
   },
   "file_extension": ".py",
   "mimetype": "text/x-python",
   "name": "python",
   "nbconvert_exporter": "python",
   "pygments_lexer": "ipython3",
   "version": "3.11.9"
  }
 },
 "nbformat": 4,
 "nbformat_minor": 2
}
