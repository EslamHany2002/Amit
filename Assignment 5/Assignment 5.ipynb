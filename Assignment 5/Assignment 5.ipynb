{
 "cells": [
  {
   "cell_type": "markdown",
   "id": "698a75ec-d4a1-40d6-bb94-4459476e0cdf",
   "metadata": {},
   "source": [
    "## Task 1 :\n",
    "## Write a Python program to create a calculator class. Include methods for basic arithmetic operations "
   ]
  },
  {
   "cell_type": "code",
   "execution_count": 3,
   "id": "ba4e9b67-0ab1-4b6a-9299-0afab055a8e8",
   "metadata": {},
   "outputs": [],
   "source": [
    "class Calculator:\n",
    "    def __init__(self):\n",
    "        pass\n",
    "\n",
    "    def add(self, a, b):\n",
    "        return a + b\n",
    "\n",
    "    def sub(self, a, b):\n",
    "        return a - b\n",
    "\n",
    "    def mult(self, a, b):\n",
    "        return a * b\n",
    "\n",
    "    def divide(self, a, b):\n",
    "        if b == 0:\n",
    "            return \"Error!!!!!! you can't Division by zero.\"\n",
    "        return a / b\n",
    "\n"
   ]
  },
  {
   "cell_type": "code",
   "execution_count": 20,
   "id": "284f839a-7bf2-4ee5-a6ac-f8d5d01654c7",
   "metadata": {},
   "outputs": [
    {
     "name": "stdout",
     "output_type": "stream",
     "text": [
      "Addition : 15\n",
      "Subtraction : 5\n",
      "Multiplication : 50\n",
      "Division : 2.0\n",
      "Division : Error!!!!!! you can't Division by zero.\n"
     ]
    }
   ],
   "source": [
    "calc = Calculator()\n",
    "\n",
    "print(\"Addition :\", calc.add(10, 5))\n",
    "\n",
    "print(\"Subtraction :\", calc.sub(10, 5))\n",
    "\n",
    "print(\"Multiplication :\", calc.mult(10, 5))\n",
    "\n",
    "print(\"Division :\", calc.divide(10, 5))\n",
    "print(\"Division :\", calc.divide(10, 0))"
   ]
  },
  {
   "cell_type": "markdown",
   "id": "397e7450-65bb-4452-9457-d1812103f722",
   "metadata": {},
   "source": [
    "_____"
   ]
  },
  {
   "cell_type": "markdown",
   "id": "183d203a-fcf2-4bb1-bf6c-55bda27f9dce",
   "metadata": {},
   "source": [
    "## Task 2: Rectangle class:\n",
    "1. Write a Rectangle class in Python language, allowing you to build a rectangle with length and width \r\n",
    "attributes. \r\n",
    "2. Create a Perimeter() method to calculate the perimeter of the rectangle and a Area() method to \r\n",
    "calculate the area of the rectangle.  \r\n",
    "3. Create a method display() that display the length, width, perimeter and area of an object created \r\n",
    "using an instantiation on rectangle class. \r\n",
    "4. Create a Parallelepipede child class inheriting from the Rectangle class and with a height attribute \r\n",
    "and another Volume() method to calculate the volume of the Parallelepiped. "
   ]
  },
  {
   "cell_type": "code",
   "execution_count": 29,
   "id": "0d081d58-28f2-46a4-8f07-2237225118c0",
   "metadata": {},
   "outputs": [],
   "source": [
    "class Rectangle:\n",
    "    def __init__(self, length, width):\n",
    "        self.length = length\n",
    "        self.width = width\n",
    "\n",
    "    def perimeter(self):\n",
    "        return 2 * (self.length + self.width)\n",
    "\n",
    "    def area(self):\n",
    "        return self.length * self.width\n",
    "\n",
    "    def display(self):\n",
    "        print(f\"Rectangle Length: {self.length}\")\n",
    "        print(f\"Rectangle Width: {self.width}\")\n",
    "        print(f\"Rectangle Perimeter: {self.perimeter()}\")\n",
    "        print(f\"Rectangle Area: {self.area()}\")"
   ]
  },
  {
   "cell_type": "code",
   "execution_count": 45,
   "id": "c2974bca-6b7f-4b44-8c7a-4ca30ec66fd2",
   "metadata": {},
   "outputs": [],
   "source": [
    "class Parallelepiped(Rectangle):\n",
    "    def __init__(self, length, width, height):\n",
    "        super().__init__(length, width)\n",
    "        self.height = height\n",
    "\n",
    "    def volume(self):\n",
    "        return self.area() * self.height\n",
    "\n",
    "    def display(self):\n",
    "        # super().display()\n",
    "        print(f\"Parallelepiped Height: {self.height}\")\n",
    "        print(f\"Parallelepiped Volume: {self.volume()}\")"
   ]
  },
  {
   "cell_type": "code",
   "execution_count": 41,
   "id": "cc803dab-5afb-4ffb-b881-59248d007380",
   "metadata": {},
   "outputs": [
    {
     "name": "stdout",
     "output_type": "stream",
     "text": [
      "Rectangle Length: 4\n",
      "Rectangle Width: 2\n",
      "Rectangle Perimeter: 12\n",
      "Rectangle Area: 8\n"
     ]
    }
   ],
   "source": [
    "rect = Rectangle(4, 2)\n",
    "rect.display()"
   ]
  },
  {
   "cell_type": "code",
   "execution_count": 47,
   "id": "48f2ac1d-61a5-44ed-af9b-c7ecb3914c1c",
   "metadata": {},
   "outputs": [
    {
     "name": "stdout",
     "output_type": "stream",
     "text": [
      "Parallelepiped Height: 3\n",
      "Parallelepiped Volume: 24\n"
     ]
    }
   ],
   "source": [
    "para = Parallelepiped(4, 2, 3)\n",
    "para.display()"
   ]
  },
  {
   "cell_type": "markdown",
   "id": "4666ea9c-3888-4340-b701-144cff6c6dad",
   "metadata": {},
   "source": [
    "_________________________"
   ]
  },
  {
   "cell_type": "markdown",
   "id": "ccfbc525-f6ba-42b7-a93a-341f296d04c6",
   "metadata": {},
   "source": [
    "## Task 3: Person class and child Student class\n",
    "Create a Python class Person with attributes: name and age of type string.  \r\n",
    "1. Create a display() method that displays the name and age of an object created via the Person class.  \r\n",
    "2. Create a child class Student which inherits from the Person class and which also has a section \r\n",
    "attribute.  \r\n",
    "3. Create a method displayStudent() that displays the name, age and section of an object created via the \r\n",
    "Student class.  \r\n",
    "4. Create a student object via an instantiation on the Student class and then test the displayStudent \r\n",
    "method."
   ]
  },
  {
   "cell_type": "code",
   "execution_count": 59,
   "id": "f43d79b7-b074-4585-90ed-bdd2977b9e04",
   "metadata": {},
   "outputs": [],
   "source": [
    "class Person:\n",
    "    def __init__(self, name, age):\n",
    "        self.name = name\n",
    "        self.age = age\n",
    "\n",
    "    def display(self):\n",
    "        print(f\"Your name is {self.name} and your age is {self.age}\")"
   ]
  },
  {
   "cell_type": "code",
   "execution_count": 61,
   "id": "424b1047-3c2d-4085-bcc9-141d6459bfa0",
   "metadata": {},
   "outputs": [],
   "source": [
    "class Student(Person):\n",
    "    def __init__(self, name, age, section):\n",
    "        super().__init__(name, age)\n",
    "        self.section = section\n",
    "\n",
    "    def displayStudent(self):\n",
    "        self.display()\n",
    "        print(f\"Section: {self.section}\")"
   ]
  },
  {
   "cell_type": "code",
   "execution_count": 63,
   "id": "53927e4e-b280-4e08-bf6b-4e3a9e0f1a5e",
   "metadata": {},
   "outputs": [],
   "source": [
    "student = Student(\"Eslam Hany\", \"22\", \"A\")"
   ]
  },
  {
   "cell_type": "code",
   "execution_count": 65,
   "id": "70ee30f2-edc2-46c8-ac41-fe11065f7e3d",
   "metadata": {},
   "outputs": [
    {
     "name": "stdout",
     "output_type": "stream",
     "text": [
      "Your name is Eslam Hany and your age is 22\n",
      "Section: A\n"
     ]
    }
   ],
   "source": [
    "student.displayStudent()"
   ]
  }
 ],
 "metadata": {
  "kernelspec": {
   "display_name": "Python 3 (ipykernel)",
   "language": "python",
   "name": "python3"
  },
  "language_info": {
   "codemirror_mode": {
    "name": "ipython",
    "version": 3
   },
   "file_extension": ".py",
   "mimetype": "text/x-python",
   "name": "python",
   "nbconvert_exporter": "python",
   "pygments_lexer": "ipython3",
   "version": "3.12.4"
  }
 },
 "nbformat": 4,
 "nbformat_minor": 5
}
