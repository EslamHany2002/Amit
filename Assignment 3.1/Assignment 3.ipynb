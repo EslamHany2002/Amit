{
 "cells": [
  {
   "cell_type": "markdown",
   "id": "182965cb-f0e0-42a2-a6ac-5145bfaf3879",
   "metadata": {},
   "source": [
    "## [1] Implement Fibonacci series using recursion"
   ]
  },
  {
   "cell_type": "code",
   "execution_count": 11,
   "id": "3054b217-be7a-4a48-a203-86ca778658df",
   "metadata": {},
   "outputs": [
    {
     "name": "stdout",
     "output_type": "stream",
     "text": [
      "[0, 1, 1, 2, 3, 5, 8, 13, 21, 34]\n"
     ]
    }
   ],
   "source": [
    "def fibonacci(n):\n",
    "    if n <= 1:\n",
    "        return n\n",
    "    else:\n",
    "        return fibonacci(n - 1) + fibonacci(n - 2)\n",
    "\n",
    "n = 10  \n",
    "fib_sequence = [fibonacci(i) for i in range(n)]\n",
    "print(fib_sequence)\n"
   ]
  },
  {
   "cell_type": "markdown",
   "id": "4a957b96-7c49-4d16-88fa-f8361f1fa819",
   "metadata": {},
   "source": [
    "__________"
   ]
  },
  {
   "cell_type": "markdown",
   "id": "2a8f682f-f2f0-4682-9db1-fd93c214fa2a",
   "metadata": {},
   "source": [
    "## [2] Write a Python program to find all the unique words and count the frequency of occurrence from a given list of strings."
   ]
  },
  {
   "cell_type": "code",
   "execution_count": null,
   "id": "cdb12a97-fd86-4bd4-a666-0093f56a07f6",
   "metadata": {},
   "outputs": [],
   "source": []
  },
  {
   "cell_type": "markdown",
   "id": "ab75c15b-82dd-4e05-9952-dcfe07eaf78e",
   "metadata": {},
   "source": [
    "***************"
   ]
  },
  {
   "cell_type": "markdown",
   "id": "7f2a29aa-ee02-4376-9a8f-b6e61e829e80",
   "metadata": {},
   "source": [
    "## [3] Write a Python program that finds all pairs of elements in a list whose sum is equal to a given value"
   ]
  },
  {
   "cell_type": "code",
   "execution_count": 9,
   "id": "fc2d7e28-15d9-4c00-9169-4114a4938ece",
   "metadata": {},
   "outputs": [
    {
     "name": "stdin",
     "output_type": "stream",
     "text": [
      "Target value: 10\n"
     ]
    },
    {
     "name": "stdout",
     "output_type": "stream",
     "text": [
      "[(9, 1), (8, 2), (7, 3), (6, 4), (5, 5), (4, 6), (3, 7), (2, 8), (1, 9)]\n"
     ]
    }
   ],
   "source": [
    "original_list = [1,2,3,4,5,6,7,8,9]\n",
    "target = int(input(\"Target value:\"))\n",
    "pair = set()\n",
    "result = []\n",
    "for i in original_list:\n",
    "    n = target - i\n",
    "    if n in original_list:\n",
    "        result.append((n,i))\n",
    "    pair.add(i)\n",
    "\n",
    "print(result)"
   ]
  },
  {
   "cell_type": "markdown",
   "id": "c43ca4ba-3a1a-461e-b40a-89e09e99b9f5",
   "metadata": {},
   "source": [
    "___________________"
   ]
  },
  {
   "cell_type": "markdown",
   "id": "9fbc3621-9da0-416d-8cc9-5a1594b3273b",
   "metadata": {},
   "source": [
    "## [4] Write a Python program to find the two numbers whose product is maximum among all the pairs in a given list of numbers"
   ]
  },
  {
   "cell_type": "code",
   "execution_count": 22,
   "id": "0e535e61-43eb-4a74-92ea-8d24bc5d971c",
   "metadata": {},
   "outputs": [
    {
     "name": "stdout",
     "output_type": "stream",
     "text": [
      "The original list : [(1, 2), (3, 4), (5, 6), (7, 8)]\n",
      "Maximum product among pairs : 56\n"
     ]
    }
   ],
   "source": [
    "test_list = [(1, 2), (3, 4), (5, 6), (7, 8)]\n",
    " \n",
    "print(\"The original list : \" + str(test_list))\n",
    "\n",
    "temp = [abs(b * a) for a, b in test_list]\n",
    "res = max(temp)\n",
    " \n",
    "print(\"Maximum product among pairs : \" + str(res))"
   ]
  },
  {
   "cell_type": "markdown",
   "id": "7df7e4fd-e8f7-4dee-8329-207c7d382de5",
   "metadata": {},
   "source": [
    "## [5] Write a Python function that takes a number as a parameter and checks whether the number is prime or not"
   ]
  },
  {
   "cell_type": "code",
   "execution_count": 15,
   "id": "4779ca8b-fc04-4330-8fed-856c1b49360f",
   "metadata": {},
   "outputs": [
    {
     "name": "stdout",
     "output_type": "stream",
     "text": [
      "prime number\n"
     ]
    }
   ],
   "source": [
    "def test_prime(n):\n",
    "    if (n == 1):\n",
    "        return \"not prime\"\n",
    "    elif (n == 2):\n",
    "        return \"prime number\"\n",
    "    else:\n",
    "        for x in range(2, n):\n",
    "            if (n % x == 0):\n",
    "                return \"not prime\"\n",
    "        return \"prime number\"\n",
    "print(test_prime(7))"
   ]
  },
  {
   "cell_type": "markdown",
   "id": "c4fcb25b-65c0-4737-a8ff-23a04a4db735",
   "metadata": {},
   "source": [
    "## [6] Write a Python function  to print the even numbers from a given list"
   ]
  },
  {
   "cell_type": "code",
   "execution_count": 24,
   "id": "cbe67c36-3d2a-4a73-8495-625dcd81ac3a",
   "metadata": {},
   "outputs": [
    {
     "name": "stdout",
     "output_type": "stream",
     "text": [
      "Even numbers in the list:\n",
      "2\n",
      "4\n",
      "6\n",
      "8\n",
      "10\n"
     ]
    }
   ],
   "source": [
    "def even_numberss(numbers_list):\n",
    "    even_numbers = [num for num in numbers if num % 2 == 0]\n",
    "    \n",
    "    if even_numbers:\n",
    "        print(\"Even numbers in the list:\")\n",
    "        for num in even_numbers:\n",
    "            print(num)\n",
    "    else:\n",
    "        print(\"No even numbers in the list.\")\n",
    "\n",
    "numbers_list = [1, 2, 3, 4, 5, 6, 7, 8, 9, 10]\n",
    "even_numberss(numbers_list)\n"
   ]
  },
  {
   "cell_type": "markdown",
   "id": "060adda5-ccf5-4dad-aed5-97f28865400d",
   "metadata": {},
   "source": [
    "## [7] Write a function that will take a given string and reverse the order of words. \n",
    "### Ex:\n",
    "###     “Hello world” →”world Hello” "
   ]
  },
  {
   "cell_type": "code",
   "execution_count": 26,
   "id": "1d6085ee-3b08-4947-8ee3-337d9d665ba9",
   "metadata": {},
   "outputs": [
    {
     "name": "stdout",
     "output_type": "stream",
     "text": [
      "world Hello\n"
     ]
    }
   ],
   "source": [
    "def reverse_words(sentence):\n",
    "    words = sentence.split()\n",
    "    reversed_words = words[::-1]\n",
    "    reversed_sentence = ' '.join(reversed_words)\n",
    "    return reversed_sentence\n",
    "\n",
    "sentence = \"Hello world\"\n",
    "reversed_sentence = reverse_words(sentence)\n",
    "print(reversed_sentence)\n"
   ]
  },
  {
   "cell_type": "markdown",
   "id": "718277dd-3ea1-4a66-a8a6-573a633b4188",
   "metadata": {},
   "source": [
    "### [8] Given an integer x, return true if x is a palindrome, and false otherwise. \n",
    "Example 1:\n",
    "Input: x = 121 \n",
    "Output: true \n",
    "Explanation: 121 reads as 121 from left to right and from right to left. \n",
    "\n",
    "Example 2: \n",
    "Input: x = -121 \n",
    "Output: false \n",
    "Explanation: From left to right, it reads -121. From right to left, it becomes 121-. Therefore, it is not a palindrome. \n",
    "\n",
    "Example 3: \n",
    "Input: x = 10 \n",
    "Output: false \n",
    "Explanation: Reads 01 from right to left. Therefore, it is not a palindrome. "
   ]
  },
  {
   "cell_type": "code",
   "execution_count": 70,
   "id": "78414d0d-0217-44b2-a76e-53eb428a85ee",
   "metadata": {},
   "outputs": [
    {
     "name": "stdin",
     "output_type": "stream",
     "text": [
      "Enter the value : 5\n"
     ]
    },
    {
     "name": "stdout",
     "output_type": "stream",
     "text": [
      "True\n"
     ]
    }
   ],
   "source": [
    "palin = int(input(\"Enter the value :\"))\n",
    "def is_palindrome(x):\n",
    "    if x < 0:\n",
    "        return False\n",
    "    palin_str = str(x)\n",
    "    return palin_str == palin_str[::-1]\n",
    "    \n",
    "print(is_palindrome(palin))"
   ]
  },
  {
   "cell_type": "markdown",
   "id": "f218614d-4242-4d2f-b133-cfad5503e3f6",
   "metadata": {},
   "source": [
    "## [9] Write a Python function that checks whether a passed string is a palindrome or not"
   ]
  },
  {
   "cell_type": "code",
   "execution_count": 80,
   "id": "c65512dc-dd3a-4278-87ab-2f5352288d15",
   "metadata": {},
   "outputs": [
    {
     "name": "stdin",
     "output_type": "stream",
     "text": [
      "Enter the String : malayalam\n"
     ]
    },
    {
     "name": "stdout",
     "output_type": "stream",
     "text": [
      "True\n"
     ]
    }
   ],
   "source": [
    "palin = input(\"Enter the String :\")\n",
    "def is_palindrome(x):\n",
    "    return x == x[::-1]\n",
    "\n",
    "print(is_palindrome(palin))"
   ]
  },
  {
   "cell_type": "markdown",
   "id": "34622948-67d2-4faa-a481-7d8851647b4f",
   "metadata": {},
   "source": [
    "## [10] Write a Python function to create and print a list where the values are the squares of numbers between 1 and 30 (both included).  "
   ]
  },
  {
   "cell_type": "code",
   "execution_count": 86,
   "id": "c4440325-33d4-4439-ab17-e303b2b7f259",
   "metadata": {},
   "outputs": [
    {
     "name": "stdout",
     "output_type": "stream",
     "text": [
      "[1, 4, 9, 16, 25, 36, 49, 64, 81, 100, 121, 144, 169, 196, 225, 256, 289, 324, 361, 400, 441, 484, 529, 576, 625, 676, 729, 784, 841, 900]\n"
     ]
    }
   ],
   "source": [
    "def generate_squares():\n",
    "    squares = [x**2 for x in range(1, 31)]\n",
    "    print(squares)\n",
    "\n",
    "generate_squares()\n"
   ]
  },
  {
   "cell_type": "markdown",
   "id": "07fdbb6f-0067-4173-ae09-22f98e9c5495",
   "metadata": {},
   "source": [
    "## [11] Write a Python function to generate all permutations of a list"
   ]
  },
  {
   "cell_type": "code",
   "execution_count": 7,
   "id": "2a4f5469-2680-410b-8776-afeb2ae52dbb",
   "metadata": {},
   "outputs": [
    {
     "name": "stdout",
     "output_type": "stream",
     "text": [
      "[1, 2, 3]\n",
      "[1, 3, 2]\n",
      "[2, 1, 3]\n",
      "[2, 3, 1]\n",
      "[3, 1, 2]\n",
      "[3, 2, 1]\n"
     ]
    }
   ],
   "source": [
    "def generate_permutations(lst):\n",
    "    if len(lst) == 0:\n",
    "        return [[]]\n",
    "    elif len(lst) == 1:\n",
    "        return [lst]\n",
    "    result = []\n",
    "    for i in range(len(lst)):\n",
    "        current = lst[i]\n",
    "        remaining = lst[:i] + lst[i+1:]\n",
    "        for p in generate_permutations(remaining):\n",
    "            result.append([current] + p)\n",
    "    return result\n",
    "\n",
    "lst = [1, 2, 3]\n",
    "all_permutations = generate_permutations(lst)\n",
    "for perm in all_permutations:\n",
    "    print(perm)\n"
   ]
  },
  {
   "cell_type": "markdown",
   "id": "7bad46e0-b590-45e2-8e51-72cf78bcc694",
   "metadata": {},
   "source": [
    "## [12] Write a Python program to access a function inside a function. "
   ]
  },
  {
   "cell_type": "code",
   "execution_count": 5,
   "id": "0ba49eb2-9751-4b0b-b578-910229a5040e",
   "metadata": {},
   "outputs": [
    {
     "name": "stdout",
     "output_type": "stream",
     "text": [
      "Hello from the inner function!\n"
     ]
    }
   ],
   "source": [
    "def outer_function():\n",
    "    def inner_function():\n",
    "        return \"Hello from the inner function!\"\n",
    "    result = inner_function()\n",
    "    return result\n",
    "output = outer_function()\n",
    "print(output)"
   ]
  }
 ],
 "metadata": {
  "kernelspec": {
   "display_name": "Python 3 (ipykernel)",
   "language": "python",
   "name": "python3"
  },
  "language_info": {
   "codemirror_mode": {
    "name": "ipython",
    "version": 3
   },
   "file_extension": ".py",
   "mimetype": "text/x-python",
   "name": "python",
   "nbconvert_exporter": "python",
   "pygments_lexer": "ipython3",
   "version": "3.12.4"
  }
 },
 "nbformat": 4,
 "nbformat_minor": 5
}
