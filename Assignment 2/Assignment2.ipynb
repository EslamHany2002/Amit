{
 "cells": [
  {
   "cell_type": "markdown",
   "id": "98736824-2990-46b0-a95a-01ba15a7df2e",
   "metadata": {},
   "source": [
    "## [1] Write a Python program to add an item to a tuple"
   ]
  },
  {
   "cell_type": "code",
   "execution_count": 11,
   "id": "f3d1fd25-cfcf-4e4a-bbef-0a2a9ac9f945",
   "metadata": {},
   "outputs": [
    {
     "name": "stdin",
     "output_type": "stream",
     "text": [
      "Enter the number you want to add: 6\n"
     ]
    },
    {
     "name": "stdout",
     "output_type": "stream",
     "text": [
      "New tuple: (1, 2, 3, 6)\n"
     ]
    }
   ],
   "source": [
    "original_tuple = (1, 2, 3)\n",
    "\n",
    "item_to_add = int(input(\"Enter the number you want to add:\"))\n",
    "temp_list = list(original_tuple)\n",
    "temp_list.append(item_to_add)\n",
    "\n",
    "new_tuple = tuple(temp_list)\n",
    "\n",
    "print(\"New tuple:\", new_tuple)"
   ]
  },
  {
   "cell_type": "markdown",
   "id": "c9845e2f-bca6-4581-9468-de310ba63f7f",
   "metadata": {},
   "source": [
    "_____________________________________"
   ]
  },
  {
   "cell_type": "markdown",
   "id": "a5120bbe-152f-4eba-8bc0-baa7b421fda7",
   "metadata": {},
   "source": [
    "## [2] Write a Python program to sum all the items in a list"
   ]
  },
  {
   "cell_type": "code",
   "execution_count": 19,
   "id": "c3e9d7cb-812b-4046-95f5-c2111b71c9e7",
   "metadata": {},
   "outputs": [
    {
     "name": "stdin",
     "output_type": "stream",
     "text": [
      "Enter a list of numbers separated by commas:  1,2,3,4,5,6\n"
     ]
    },
    {
     "data": {
      "text/plain": [
       "21"
      ]
     },
     "execution_count": 19,
     "metadata": {},
     "output_type": "execute_result"
    }
   ],
   "source": [
    "sum([int(i) for i in input(\"Enter a list of numbers separated by commas: \").split(\",\")])\n"
   ]
  },
  {
   "cell_type": "markdown",
   "id": "0b5ca331-bccd-416e-943f-9cb1ca614275",
   "metadata": {},
   "source": [
    "___________________"
   ]
  },
  {
   "cell_type": "markdown",
   "id": "289d3bc4-5710-49a3-94e4-1de9833c3c63",
   "metadata": {},
   "source": [
    "## [3] Write a Python program to multiply all the items in a list"
   ]
  },
  {
   "cell_type": "code",
   "execution_count": 25,
   "id": "9658ff18-f275-4b3a-b776-1600b1013058",
   "metadata": {},
   "outputs": [
    {
     "name": "stdin",
     "output_type": "stream",
     "text": [
      "Enter a list of numbers separated by commas:  1,2,3,4,5\n"
     ]
    },
    {
     "name": "stdout",
     "output_type": "stream",
     "text": [
      "multiply all the items 120\n"
     ]
    }
   ],
   "source": [
    "numbers = [int(i) for i in input(\"Enter a list of numbers separated by commas: \").split(\",\")]\n",
    "\n",
    "product = 1\n",
    "for number in numbers:\n",
    "    product *= number\n",
    "\n",
    "print(\"multiply all the items\", product)"
   ]
  },
  {
   "cell_type": "markdown",
   "id": "5ee0dda2-d1e5-4794-9295-a524dd05cbb7",
   "metadata": {},
   "source": [
    "_________________"
   ]
  },
  {
   "cell_type": "markdown",
   "id": "18854a75-19b6-4678-993c-77bd40453a5d",
   "metadata": {},
   "source": [
    "## [4] Write a Python program to get the smallest number from a list"
   ]
  },
  {
   "cell_type": "code",
   "execution_count": 47,
   "id": "0f4c7afc-79ef-4207-b0de-ef73826a3ae6",
   "metadata": {},
   "outputs": [
    {
     "name": "stdin",
     "output_type": "stream",
     "text": [
      "Enter a list of numbers separated by commas:  21,5,8,2,7\n"
     ]
    },
    {
     "name": "stdout",
     "output_type": "stream",
     "text": [
      "smallest number is :  2\n"
     ]
    }
   ],
   "source": [
    "numbers_list = [int(i) for i in input(\"Enter a list of numbers separated by commas: \").split(\",\")]\n",
    "smallest_number = min(numbers_list)\n",
    "print(\"smallest number is : \",smallest_number)"
   ]
  },
  {
   "cell_type": "markdown",
   "id": "6cbbd85d-fa71-4dda-bdb5-80e31bc8dfd2",
   "metadata": {},
   "source": [
    "________________________________"
   ]
  },
  {
   "cell_type": "markdown",
   "id": "3bbb5307-e25e-4bce-a2d8-49afe77a4601",
   "metadata": {},
   "source": [
    "## [5] Write a Python program to get the largest number from a list"
   ]
  },
  {
   "cell_type": "code",
   "execution_count": 50,
   "id": "29f91ca6-aaa6-4625-8a85-ee9708b7d9a9",
   "metadata": {},
   "outputs": [
    {
     "name": "stdin",
     "output_type": "stream",
     "text": [
      "Enter a list of numbers separated by commas:  1,5,3,7,12,4\n"
     ]
    },
    {
     "name": "stdout",
     "output_type": "stream",
     "text": [
      "largest number is :  12\n"
     ]
    }
   ],
   "source": [
    "numbers_list = [int(i) for i in input(\"Enter a list of numbers separated by commas: \").split(\",\")]\n",
    "largest_number = max(numbers_list)\n",
    "print(\"largest number is : \",largest_number)"
   ]
  },
  {
   "cell_type": "markdown",
   "id": "c9716195-e657-4443-8659-6adfe3282882",
   "metadata": {},
   "source": [
    "____________________"
   ]
  },
  {
   "cell_type": "markdown",
   "id": "2be95e1a-63bd-4fa4-90d1-6196566ff84e",
   "metadata": {},
   "source": [
    "## [6] Write a Python program to count the number of strings from a given list of strings"
   ]
  },
  {
   "cell_type": "code",
   "execution_count": 62,
   "id": "338c8131-1dc4-4f29-bfa8-4b5861551fd1",
   "metadata": {},
   "outputs": [
    {
     "name": "stdin",
     "output_type": "stream",
     "text": [
      "Enter the list : amit,machine learning,ai,pyhton\n"
     ]
    },
    {
     "name": "stdout",
     "output_type": "stream",
     "text": [
      "['amit', 'machine learning', 'ai', 'pyhton']\n",
      "Number of strings in the list: 4\n"
     ]
    }
   ],
   "source": [
    "first = input(\"Enter the list :\")\n",
    "string_list = first.split(\",\")\n",
    "print(string_list)\n",
    "count = len(string_list)\n",
    "print(\"Number of strings in the list:\", count)\n"
   ]
  },
  {
   "cell_type": "markdown",
   "id": "57d6a156-6ac4-4248-8aea-310026087ee8",
   "metadata": {},
   "source": [
    "___________________________________"
   ]
  },
  {
   "cell_type": "markdown",
   "id": "f9e55361-1104-42e1-9426-580d9dcfe46f",
   "metadata": {},
   "source": [
    "## [7] Write a Python program to clone or copy a list"
   ]
  },
  {
   "cell_type": "code",
   "execution_count": 68,
   "id": "ebc12d48-50bb-4842-84b7-656316bee4e9",
   "metadata": {},
   "outputs": [
    {
     "name": "stdout",
     "output_type": "stream",
     "text": [
      "Copied list: [1, 2, 3, 4, 5]\n"
     ]
    }
   ],
   "source": [
    "original_list = [1, 2, 3, 4, 5]\n",
    "copied_list = original_list.copy()\n",
    "\n",
    "print(\"Copied list:\", copied_list)\n"
   ]
  },
  {
   "cell_type": "markdown",
   "id": "70f2cc37-11a5-45cf-a0fd-e330ed4064d6",
   "metadata": {},
   "source": [
    "_________________"
   ]
  },
  {
   "cell_type": "markdown",
   "id": "0d9e2bfe-cdc1-489c-bf6b-0a9441de5a2e",
   "metadata": {},
   "source": [
    "## [8] Write a Python program to remove item(s) from a given set"
   ]
  },
  {
   "cell_type": "code",
   "execution_count": 7,
   "id": "08d7df05-de9c-4ab1-a079-26bcb06dc40d",
   "metadata": {},
   "outputs": [
    {
     "name": "stdout",
     "output_type": "stream",
     "text": [
      "Original Set after removal: {1, 3, 4, 5}\n"
     ]
    }
   ],
   "source": [
    "original_set = {1, 2, 3, 4, 5}\n",
    "items_to_remove = {2}\n",
    "for item in items_to_remove:\n",
    "    original_set.remove(item)\n",
    "print(\"Original Set after removal:\", original_set)"
   ]
  },
  {
   "cell_type": "markdown",
   "id": "65e90841-08c8-426b-928a-a595cccd3518",
   "metadata": {},
   "source": [
    "_____________________"
   ]
  },
  {
   "cell_type": "markdown",
   "id": "9472305c-2cc8-4f2f-ac38-8e975d2b36fc",
   "metadata": {},
   "source": [
    "## [9] Write a Python program to check if a set is a subset of another set"
   ]
  },
  {
   "cell_type": "code",
   "execution_count": 14,
   "id": "42b09ef9-4d3a-469f-81f9-a0dd3648227c",
   "metadata": {},
   "outputs": [
    {
     "name": "stdout",
     "output_type": "stream",
     "text": [
      "Is Set A a subset of Set B? True\n"
     ]
    }
   ],
   "source": [
    "\n",
    "set_a = {1, 2, 3}\n",
    "set_b = {1, 2, 3, 4, 5}\n",
    "is_subset = set_a.issubset(set_b)\n",
    "print(\"Is Set A a subset of Set B?\", is_subset)"
   ]
  },
  {
   "cell_type": "markdown",
   "id": "968320a6-f97d-4e33-89bc-ed18e22a24ce",
   "metadata": {},
   "source": [
    "______________________________"
   ]
  },
  {
   "cell_type": "markdown",
   "id": "76c89f0f-31b6-4fa3-83b7-bcc7a2248469",
   "metadata": {},
   "source": [
    "## [10] Write a Python program to remove all elements from a given set"
   ]
  },
  {
   "cell_type": "code",
   "execution_count": 23,
   "id": "a3796f2a-85c7-431c-bb3c-1bfe67941816",
   "metadata": {},
   "outputs": [
    {
     "name": "stdout",
     "output_type": "stream",
     "text": [
      "After clearing: set()\n"
     ]
    }
   ],
   "source": [
    "set3 = {1, 2, 3, 4, 5}\n",
    "set3.clear()\n",
    "print(\"After clearing:\", set3)"
   ]
  },
  {
   "cell_type": "markdown",
   "id": "0585ffcc-e035-4610-8dfd-a11b3c004794",
   "metadata": {},
   "source": [
    "_______________________________"
   ]
  },
  {
   "cell_type": "markdown",
   "id": "1d97f507-2699-4ab5-9de9-bdfcd0393a92",
   "metadata": {},
   "source": [
    "## [11] Write a Python program to find the maximum and minimum values in a set"
   ]
  },
  {
   "cell_type": "code",
   "execution_count": 33,
   "id": "1bb1ca0a-32e3-49ee-8ced-81a6b842ba76",
   "metadata": {},
   "outputs": [
    {
     "name": "stdout",
     "output_type": "stream",
     "text": [
      "Set: {1, 2, 3, 4, 5, 6, 9}\n",
      "Maximum value: 9\n",
      "Minimum value: 1\n"
     ]
    }
   ],
   "source": [
    "\n",
    "numbers = {3, 1, 4, 1, 5, 9, 2, 6, 5, 3, 5}\n",
    "max_value = None\n",
    "min_value = None\n",
    "\n",
    "for number in numbers:\n",
    "    if max_value is None or number > max_value:\n",
    "        max_value = number\n",
    "    if min_value is None or number < min_value:\n",
    "        min_value = number\n",
    "\n",
    "print(\"Set:\", numbers)\n",
    "print(\"Maximum value:\", max_value)\n",
    "print(\"Minimum value:\", min_value)"
   ]
  },
  {
   "cell_type": "markdown",
   "id": "83528f8c-f92e-48ba-b46e-9a78cc4f8dcd",
   "metadata": {},
   "source": [
    "_____________________"
   ]
  },
  {
   "cell_type": "markdown",
   "id": "e0bfb1c4-e301-4806-bc8e-38951ab61523",
   "metadata": {},
   "source": [
    "## [12] Write a Python program to find the index of an item in a tuple"
   ]
  },
  {
   "cell_type": "code",
   "execution_count": 43,
   "id": "c0cccf4e-fa42-43c4-9b17-31e73b05b1d6",
   "metadata": {},
   "outputs": [
    {
     "name": "stdout",
     "output_type": "stream",
     "text": [
      "Tuple: (10, 20, 30, 40, 50)\n",
      "Item to find: 10\n",
      "Index of the item: 0\n"
     ]
    }
   ],
   "source": [
    "my_tuple = (10, 20, 30, 40, 50)\n",
    "item_to_find = 10\n",
    "for i in range(len(my_tuple)):\n",
    "    if my_tuple[i] == item_to_find:\n",
    "        print(\"Tuple:\", my_tuple)\n",
    "        print(\"Item to find:\", item_to_find)\n",
    "        print(\"Index of the item:\", i)"
   ]
  },
  {
   "cell_type": "markdown",
   "id": "44b0f557-b455-48d7-8045-cd52d26ca006",
   "metadata": {},
   "source": [
    "____________________________"
   ]
  },
  {
   "cell_type": "markdown",
   "id": "839fa994-5378-4638-b248-abcb8f1d8731",
   "metadata": {},
   "source": [
    "## [13] Write a Python program to convert a tuple to a dictionary"
   ]
  },
  {
   "cell_type": "code",
   "execution_count": 51,
   "id": "5a592013-907c-4f56-9bd4-f02c7e0ac4dc",
   "metadata": {},
   "outputs": [
    {
     "name": "stdout",
     "output_type": "stream",
     "text": [
      "Tuple: (('a', 1), ('b', 2), ('c', 3))\n",
      "Dictionary: {'a': 1, 'b': 2, 'c': 3}\n"
     ]
    }
   ],
   "source": [
    "\n",
    "# Define the tuple of pairs\n",
    "my_tuple = (('a', 1), ('b', 2), ('c', 3))\n",
    "\n",
    "# Convert the tuple to a dictionary\n",
    "my_dict = {}\n",
    "for key, value in my_tuple:\n",
    "    my_dict[key] = value\n",
    "\n",
    "# Print the result\n",
    "print(\"Tuple:\", my_tuple)\n",
    "print(\"Dictionary:\", my_dict)"
   ]
  },
  {
   "cell_type": "markdown",
   "id": "ae41d964-69eb-44ec-b9bd-dfef5cae9fe1",
   "metadata": {},
   "source": [
    "_____________________"
   ]
  },
  {
   "cell_type": "markdown",
   "id": "e04fa27d-9ab1-4165-9dcb-8fbb35d8b7a7",
   "metadata": {},
   "source": [
    "## [14] Write a Python program to unzip a list of tuples into individual lists"
   ]
  },
  {
   "cell_type": "code",
   "execution_count": 3,
   "id": "6eaca8cf-4abd-4341-930e-548151319351",
   "metadata": {},
   "outputs": [
    {
     "name": "stdout",
     "output_type": "stream",
     "text": [
      "Modified list is : [('Amit', 'AL', 'Machine Learning'), (1, 2, 3)]\n"
     ]
    }
   ],
   "source": [
    "list_tup = [('Amit', 1), ('AL', 2), ('Machine Learning', 3)]\n",
    "\n",
    "res = []\n",
    "first = []\n",
    "second = []\n",
    "\n",
    "for i in list_tup:\n",
    "    first.append(i[0])\n",
    "    second.append(i[1])\n",
    " \n",
    "res.append(tuple(first))\n",
    "res.append(tuple(second))\n",
    "\n",
    "print(\"Modified list is : \" + str(res))"
   ]
  },
  {
   "cell_type": "markdown",
   "id": "bfa69cf8-3c4b-43d6-9ac3-058d4e928bde",
   "metadata": {},
   "source": [
    "_____________"
   ]
  },
  {
   "cell_type": "markdown",
   "id": "fbb07c69-a95f-4f3c-bdfa-8593a5daf0cf",
   "metadata": {},
   "source": [
    "## [15] Write a Python program to reverse a tuple"
   ]
  },
  {
   "cell_type": "code",
   "execution_count": 58,
   "id": "c4bdbccf-678a-4ac4-8e48-f044b1e7ae1c",
   "metadata": {},
   "outputs": [
    {
     "name": "stdout",
     "output_type": "stream",
     "text": [
      "Reversed Tuple: (50, 40, 30, 20, 10)\n"
     ]
    }
   ],
   "source": [
    "my_tuple = (10, 20, 30, 40, 50)\n",
    "\n",
    "reversed_tuple = my_tuple[::-1]\n",
    "print(\"Reversed Tuple:\", reversed_tuple)"
   ]
  },
  {
   "cell_type": "markdown",
   "id": "88a09f30-9d8d-407a-948d-26e623dc675f",
   "metadata": {},
   "source": [
    "_____________"
   ]
  },
  {
   "cell_type": "markdown",
   "id": "4f06e9a4-8c79-443b-b51a-fa70437fc467",
   "metadata": {},
   "source": [
    "## [16] Write a Python program to convert a list of tuples into a dictionary"
   ]
  },
  {
   "cell_type": "code",
   "execution_count": 62,
   "id": "626a9660-f2bc-4053-96ac-f08ade4a22ad",
   "metadata": {},
   "outputs": [
    {
     "name": "stdout",
     "output_type": "stream",
     "text": [
      "Dictionary: {'a': 1, 'b': 2, 'c': 3}\n"
     ]
    }
   ],
   "source": [
    "\n",
    "list_of_tuples = [('a', 1), ('b', 2), ('c', 3)]\n",
    "\n",
    "my_dict = dict(list_of_tuples)\n",
    "print(\"Dictionary:\", my_dict)"
   ]
  },
  {
   "cell_type": "markdown",
   "id": "bb66bd87-a7ff-4179-bb7a-5d4ced909445",
   "metadata": {},
   "source": [
    "______________________"
   ]
  },
  {
   "cell_type": "markdown",
   "id": "b59cacd5-35b7-4370-9b42-3892b569f3fc",
   "metadata": {},
   "source": [
    "## [17] Write a Python program to replace the last value of tuples in a list"
   ]
  },
  {
   "cell_type": "code",
   "execution_count": 3,
   "id": "98841b0b-c58c-4b6a-9109-c2ceef6380e4",
   "metadata": {},
   "outputs": [
    {
     "name": "stdout",
     "output_type": "stream",
     "text": [
      "Sample list: [(10, 20, 40), (40, 50, 60), (70, 80, 90)]\n",
      "Output: [(10, 20, 100), (40, 50, 100), (70, 80, 100)]\n"
     ]
    }
   ],
   "source": [
    "Sample_list = [(10, 20, 40), (40, 50, 60), (70, 80, 90)]\n",
    "new_value = 100\n",
    "\n",
    "\n",
    "Output = []\n",
    "for item in Sample_list:\n",
    "    new_tuple = item[:-1] + (new_value,)\n",
    "    Output.append(new_tuple)\n",
    "print(\"Sample list:\", Sample_list)\n",
    "print(\"Output:\", Output)\n"
   ]
  },
  {
   "cell_type": "markdown",
   "id": "3bf9a645-80ef-4f23-b8ed-f7fe1ae59a76",
   "metadata": {},
   "source": [
    "_________________"
   ]
  },
  {
   "cell_type": "markdown",
   "id": "5fb0c5a6-4735-46bc-bcc6-8aa163abeb13",
   "metadata": {},
   "source": [
    "## [18] Write a Python program to sort a tuple by its float element"
   ]
  },
  {
   "cell_type": "code",
   "execution_count": 11,
   "id": "e1a22327-36c4-4489-b7bc-f36f5573ac58",
   "metadata": {},
   "outputs": [
    {
     "name": "stdout",
     "output_type": "stream",
     "text": [
      "Sorted list: [('c', 1.5), ('b', 2.1), ('a', 3.2), ('d', 4.0), ('e', 7.5)]\n",
      "Reverse sorted list: [('e', 7.5), ('d', 4.0), ('a', 3.2), ('b', 2.1), ('c', 1.5)]\n"
     ]
    }
   ],
   "source": [
    "x = [('a', 3.2),('b', 2.1),('c', 1.5),('d', 4.0),('e',7.5)]\n",
    "sorted_list = sorted(x, key=lambda x: float(x[1]))\n",
    "print(\"Sorted list:\", sorted_list)\n",
    "\n",
    "reversed_listed = sorted(x, key=lambda x: float(x[1]),reverse=True)\n",
    "print(\"Reverse sorted list:\",reversed_listed)\n"
   ]
  }
 ],
 "metadata": {
  "kernelspec": {
   "display_name": "Python 3 (ipykernel)",
   "language": "python",
   "name": "python3"
  },
  "language_info": {
   "codemirror_mode": {
    "name": "ipython",
    "version": 3
   },
   "file_extension": ".py",
   "mimetype": "text/x-python",
   "name": "python",
   "nbconvert_exporter": "python",
   "pygments_lexer": "ipython3",
   "version": "3.12.4"
  }
 },
 "nbformat": 4,
 "nbformat_minor": 5
}
